{
 "cells": [
  {
   "cell_type": "code",
   "execution_count": 1,
   "metadata": {},
   "outputs": [],
   "source": [
    "import numpy as np\n",
    "import pandas as pd\n",
    "import pystan\n",
    "import pickle\n",
    "import gzip"
   ]
  },
  {
   "cell_type": "code",
   "execution_count": 2,
   "metadata": {},
   "outputs": [],
   "source": [
    "stan_code = \"\"\"\n",
    "parameters {\n",
    "    real a;\n",
    "    real b[3];\n",
    "    vector[3] c;\n",
    "    vector[3] c1[3];\n",
    "    matrix[3,3] d;\n",
    "    matrix[4,3] e;\n",
    "    matrix[3,3] f[5];\n",
    "    matrix[4,3] g[6, 4];\n",
    "}\n",
    "model {\n",
    "    a ~ normal(0,1);\n",
    "    b ~ normal(0,1);\n",
    "    c ~ normal(0,1);\n",
    "    for (n in 1:3) {\n",
    "        c1[n] ~ normal(0,1);\n",
    "        for (m in 1:3) {\n",
    "            d[n,m] ~ normal(0,1);\n",
    "        }\n",
    "    }\n",
    "    for (n in 1:4) {\n",
    "        for (m in 1:3) {\n",
    "            e[n,m] ~ normal(0,1);\n",
    "        }\n",
    "    }\n",
    "    for (k in 1:5) {\n",
    "        for (n in 1:3) {\n",
    "            for (m in 1:3) {\n",
    "                f[k,n,m] ~ normal(0,1);\n",
    "            }\n",
    "        }\n",
    "    }\n",
    "    for (k in 1:6) {\n",
    "        for (l in 1:4) {\n",
    "            for (n in 1:4) {\n",
    "                for (m in 1:3) {\n",
    "                    g[k,l,n,m] ~ normal(0,1);\n",
    "                }\n",
    "            }\n",
    "        }\n",
    "    }\n",
    "}\n",
    "generated quantities {\n",
    "    int h;\n",
    "    int i[3];\n",
    "    int j[3,4];\n",
    "    h = poisson_rng(3);\n",
    "    for (n in 1:3) {\n",
    "        i[n] = poisson_rng(3);\n",
    "        for (m in 1:4) {\n",
    "            j[n,m] = poisson_rng(3);\n",
    "        }\n",
    "    }\n",
    "}\n",
    "\"\"\""
   ]
  },
  {
   "cell_type": "code",
   "execution_count": 3,
   "metadata": {},
   "outputs": [
    {
     "name": "stderr",
     "output_type": "stream",
     "text": [
      "INFO:pystan:COMPILING THE C++ CODE FOR MODEL anon_model_d74ce66b2c5e650c837eafb7417e07c5 NOW.\n"
     ]
    },
    {
     "name": "stdout",
     "output_type": "stream",
     "text": [
      "Wall time: 50.4 s\n"
     ]
    }
   ],
   "source": [
    "%time stan_model = pystan.StanModel(model_code=stan_code)"
   ]
  },
  {
   "cell_type": "code",
   "execution_count": 4,
   "metadata": {},
   "outputs": [
    {
     "name": "stdout",
     "output_type": "stream",
     "text": [
      "Wall time: 7.65 s\n",
      "Wall time: 2.38 s\n",
      "Wall time: 3.12 s\n",
      "Wall time: 20 ms\n"
     ]
    },
    {
     "name": "stderr",
     "output_type": "stream",
     "text": [
      "WARNING:pystan:`warmup=0` forced with `algorithm=\"Fixed_param\"`.\n"
     ]
    },
    {
     "name": "stdout",
     "output_type": "stream",
     "text": [
      "Wall time: 3.48 s\n",
      "Wall time: 13 ms\n",
      "Wall time: 7 ms\n",
      "Wall time: 16 ms\n",
      "Wall time: 16.7 s\n"
     ]
    }
   ],
   "source": [
    "%%time\n",
    "%time fit0 = stan_model.sampling(seed=131, check_hmc_diagnostics=False)\n",
    "%time fit1 = stan_model.sampling(chains=1, seed=132, check_hmc_diagnostics=False)\n",
    "%time fit2 = stan_model.sampling(iter=10, seed=133, check_hmc_diagnostics=False)\n",
    "%time fit3 = stan_model.sampling(iter=10, chains=1, seed=134, check_hmc_diagnostics=False)\n",
    "%time fit4 = stan_model.sampling(iter=1, warmup=0, seed=135, check_hmc_diagnostics=False)\n",
    "%time fit5 = stan_model.sampling(iter=1, warmup=0, chains=1, seed=136, check_hmc_diagnostics=False)\n",
    "%time fit6 = stan_model.sampling(iter=1, chains=1, algorithm=\"Fixed_param\", seed=137, check_hmc_diagnostics=False)\n",
    "%time fit7 = stan_model.sampling(iter=100, chains=1, algorithm=\"Fixed_param\", seed=138, check_hmc_diagnostics=False)"
   ]
  },
  {
   "cell_type": "code",
   "execution_count": 5,
   "metadata": {},
   "outputs": [
    {
     "name": "stderr",
     "output_type": "stream",
     "text": [
      "C:\\Users\\aohartik\\miniconda3\\envs\\py36\\lib\\site-packages\\ipykernel_launcher.py:3: UserWarning: Pickling fit objects is an experimental feature!\n",
      "The relevant StanModel instance must be pickled along with this fit object.\n",
      "When unpickling the StanModel must be unpickled first.\n",
      "  This is separate from the ipykernel package so we can avoid doing imports until\n"
     ]
    },
    {
     "name": "stdout",
     "output_type": "stream",
     "text": [
      "Wall time: 2.54 s\n"
     ]
    }
   ],
   "source": [
    "%%time\n",
    "import sys\n",
    "with gzip.open(f\"./model_and_fits_{pystan.__version__}_{sys.platform}.pickle.gzip\", \"wb\") as f:\n",
    "    f.write(pickle.dumps([stan_model, fit0, fit1, fit2, fit3, fit4, fit5, fit6, fit7]))"
   ]
  },
  {
   "cell_type": "code",
   "execution_count": 6,
   "metadata": {},
   "outputs": [
    {
     "name": "stdout",
     "output_type": "stream",
     "text": [
      "Wall time: 1.02 s\n"
     ]
    }
   ],
   "source": [
    "%%time\n",
    "extracts = {}\n",
    "for fit, key in zip([fit0, fit1, fit2, fit3, fit4, fit5, fit6, fit7], \n",
    "                    ['basic', 'basic_chain1', 'iter10', 'iter10chain1', \n",
    "                     'iter1_chain4', 'iter1chain1', 'fixed_paramchain_n1', 'fixed_param_n100']):\n",
    "    pars = fit.model_pars + ['lp__']\n",
    "    extracts[key] = {'permuted' : fit.extract(),\n",
    "                     'not_permuted' : fit.extract(pars=pars, permuted=False), \n",
    "                     'ndarray' : fit.extract(permuted=False),\n",
    "                    }"
   ]
  },
  {
   "cell_type": "code",
   "execution_count": 7,
   "metadata": {},
   "outputs": [
    {
     "name": "stdout",
     "output_type": "stream",
     "text": [
      "Wall time: 2.97 s\n"
     ]
    }
   ],
   "source": [
    "%%time\n",
    "with gzip.open(f\"./shape_comparison_test_{pystan.__version__}.pickle.gzip\", \"wb\") as f:\n",
    "    f.write(pickle.dumps(extracts))"
   ]
  }
 ],
 "metadata": {
  "kernelspec": {
   "display_name": "Python 3",
   "language": "python",
   "name": "python3"
  },
  "language_info": {
   "codemirror_mode": {
    "name": "ipython",
    "version": 3
   },
   "file_extension": ".py",
   "mimetype": "text/x-python",
   "name": "python",
   "nbconvert_exporter": "python",
   "pygments_lexer": "ipython3",
   "version": "3.6.5"
  }
 },
 "nbformat": 4,
 "nbformat_minor": 2
}
