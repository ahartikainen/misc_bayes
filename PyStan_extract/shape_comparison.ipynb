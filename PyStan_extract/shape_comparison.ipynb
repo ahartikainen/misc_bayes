{
 "cells": [
  {
   "cell_type": "code",
   "execution_count": 1,
   "metadata": {},
   "outputs": [],
   "source": [
    "import numpy as np\n",
    "import pickle\n",
    "import gzip"
   ]
  },
  {
   "cell_type": "code",
   "execution_count": 2,
   "metadata": {},
   "outputs": [],
   "source": [
    "with gzip.open(\"./shape_comparison_test_2.18.0.0.pickle.gzip\", \"rb\") as f:\n",
    "    old = pickle.loads(f.read())\n",
    "    \n",
    "with gzip.open(\"./shape_comparison_test_2.18.0.1.dev.pickle.gzip\", \"rb\") as f:\n",
    "    new = pickle.loads(f.read())"
   ]
  },
  {
   "cell_type": "code",
   "execution_count": 3,
   "metadata": {},
   "outputs": [],
   "source": [
    "assert old.keys() == new.keys()"
   ]
  },
  {
   "cell_type": "code",
   "execution_count": 4,
   "metadata": {},
   "outputs": [
    {
     "name": "stdout",
     "output_type": "stream",
     "text": [
      "All good!\n",
      "Wall time: 22 ms\n"
     ]
    }
   ],
   "source": [
    "%%time\n",
    "for key in old.keys():\n",
    "    old_ = old[key]\n",
    "    new_ = new[key]\n",
    "    assert type(old_) == type(new_)\n",
    "    assert old_.keys() == new_.keys()\n",
    "\n",
    "    for key_ in old_.keys():\n",
    "        old_values = old_[key_]\n",
    "        new_values = new_[key_]\n",
    "        assert type(old_values) == type(new_values)\n",
    "        if isinstance(old_values, dict):\n",
    "            for key__ in old_values.keys():\n",
    "                arr_old = old_values[key__]\n",
    "                arr_new = old_values[key__]\n",
    "                assert type(arr_old) == type(arr_new)\n",
    "                if hasattr(arr_old, \"__iter__\"):\n",
    "                    assert (arr_old == arr_new).all()\n",
    "                else:\n",
    "                    assert arr_old == arr_new\n",
    "        else:\n",
    "            if hasattr(old_values, \"__iter__\"):\n",
    "                assert (old_values == new_values).all()\n",
    "            else:\n",
    "                assert old_values == new_values\n",
    "print(\"All good!\")"
   ]
  }
 ],
 "metadata": {
  "kernelspec": {
   "display_name": "Python 3",
   "language": "python",
   "name": "python3"
  },
  "language_info": {
   "codemirror_mode": {
    "name": "ipython",
    "version": 3
   },
   "file_extension": ".py",
   "mimetype": "text/x-python",
   "name": "python",
   "nbconvert_exporter": "python",
   "pygments_lexer": "ipython3",
   "version": "3.6.5"
  }
 },
 "nbformat": 4,
 "nbformat_minor": 2
}
