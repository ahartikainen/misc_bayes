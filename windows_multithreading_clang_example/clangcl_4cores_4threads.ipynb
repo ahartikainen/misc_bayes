{
 "cells": [
  {
   "cell_type": "code",
   "execution_count": 1,
   "metadata": {},
   "outputs": [],
   "source": [
    "import pandas as pd\n",
    "import numpy as np\n",
    "\n",
    "import pystan"
   ]
  },
  {
   "cell_type": "code",
   "execution_count": 2,
   "metadata": {},
   "outputs": [
    {
     "name": "stderr",
     "output_type": "stream",
     "text": [
      "INFO:pystan:COMPILING THE C++ CODE FOR MODEL anon_model_52de5fd549be2afc65cbbab9f8afd5e4 NOW.\n"
     ]
    },
    {
     "name": "stdout",
     "output_type": "stream",
     "text": [
      "Wall time: 48.4 s\n"
     ]
    }
   ],
   "source": [
    "%time stan_model_serial = pystan.StanModel(file=\"./cmdstan_map_rect_tutorial/logistic0.stan\")"
   ]
  },
  {
   "cell_type": "code",
   "execution_count": 3,
   "metadata": {},
   "outputs": [],
   "source": [
    "data = pystan.read_rdump(\"./cmdstan_map_rect_tutorial/redcard_input.R\")"
   ]
  },
  {
   "cell_type": "code",
   "execution_count": 4,
   "metadata": {},
   "outputs": [
    {
     "name": "stdout",
     "output_type": "stream",
     "text": [
      "Wall time: 6min 11s\n"
     ]
    }
   ],
   "source": [
    "%time stan_fit_serial = stan_model_serial.sampling(data=data, n_jobs=4)"
   ]
  },
  {
   "cell_type": "code",
   "execution_count": 5,
   "metadata": {},
   "outputs": [
    {
     "data": {
      "text/plain": [
       "Inference for Stan model: anon_model_52de5fd549be2afc65cbbab9f8afd5e4.\n",
       "4 chains, each with iter=2000; warmup=1000; thin=1; \n",
       "post-warmup draws per chain=1000, total post-warmup draws=4000.\n",
       "\n",
       "          mean se_mean     sd   2.5%    25%    50%    75%  97.5%  n_eff   Rhat\n",
       "beta[1]  -5.53  9.7e-4   0.03  -5.59  -5.55  -5.53   -5.5  -5.46   1257    1.0\n",
       "beta[2]   0.28  2.1e-3   0.08   0.12   0.23   0.28   0.33   0.43   1425    1.0\n",
       "lp__    -1.0e4    0.03   1.01 -1.0e4 -1.0e4 -1.0e4 -1.0e4 -1.0e4   1489    1.0\n",
       "\n",
       "Samples were drawn using NUTS at Fri Sep 21 11:09:18 2018.\n",
       "For each parameter, n_eff is a crude measure of effective sample size,\n",
       "and Rhat is the potential scale reduction factor on split chains (at \n",
       "convergence, Rhat=1)."
      ]
     },
     "execution_count": 5,
     "metadata": {},
     "output_type": "execute_result"
    }
   ],
   "source": [
    "stan_fit_serial"
   ]
  },
  {
   "cell_type": "code",
   "execution_count": 6,
   "metadata": {},
   "outputs": [],
   "source": [
    "import os\n",
    "import sys\n",
    "os.environ['STAN_NUM_THREADS'] = \"4\"\n",
    "extra_compile_args = ['-pthread', '-DSTAN_THREADS']"
   ]
  },
  {
   "cell_type": "code",
   "execution_count": 7,
   "metadata": {},
   "outputs": [
    {
     "name": "stderr",
     "output_type": "stream",
     "text": [
      "INFO:pystan:COMPILING THE C++ CODE FOR MODEL anon_model_6a35db5c059c3652f7cbb37b2a192ed2 NOW.\n"
     ]
    },
    {
     "name": "stdout",
     "output_type": "stream",
     "text": [
      "Wall time: 50.6 s\n"
     ]
    }
   ],
   "source": [
    "%time stan_model_parallel = pystan.StanModel(file=\"./cmdstan_map_rect_tutorial/logistic1.stan\", extra_compile_args=extra_compile_args)"
   ]
  },
  {
   "cell_type": "code",
   "execution_count": 8,
   "metadata": {},
   "outputs": [
    {
     "name": "stdout",
     "output_type": "stream",
     "text": [
      "Wall time: 3min 41s\n"
     ]
    }
   ],
   "source": [
    "%time stan_fit_parallel = stan_model_parallel.sampling(data=data, n_jobs=4)"
   ]
  },
  {
   "cell_type": "code",
   "execution_count": 9,
   "metadata": {},
   "outputs": [
    {
     "data": {
      "text/plain": [
       "Inference for Stan model: anon_model_6a35db5c059c3652f7cbb37b2a192ed2.\n",
       "4 chains, each with iter=2000; warmup=1000; thin=1; \n",
       "post-warmup draws per chain=1000, total post-warmup draws=4000.\n",
       "\n",
       "          mean se_mean     sd   2.5%    25%    50%    75%  97.5%  n_eff   Rhat\n",
       "beta[1]  -5.55  1.2e-3   0.05  -5.64  -5.58  -5.54  -5.52  -5.46   1416    1.0\n",
       "beta[2]   0.25  3.0e-3   0.11   0.03   0.18   0.25   0.33   0.47   1395    1.0\n",
       "lp__     -4424    0.02   0.98  -4427  -4425  -4424  -4423  -4423   1614    1.0\n",
       "\n",
       "Samples were drawn using NUTS at Fri Sep 21 11:13:50 2018.\n",
       "For each parameter, n_eff is a crude measure of effective sample size,\n",
       "and Rhat is the potential scale reduction factor on split chains (at \n",
       "convergence, Rhat=1)."
      ]
     },
     "execution_count": 9,
     "metadata": {},
     "output_type": "execute_result"
    }
   ],
   "source": [
    "stan_fit_parallel"
   ]
  },
  {
   "cell_type": "raw",
   "metadata": {},
   "source": [
    "Serial   sampling -  Wall time: 6min 11s\n",
    "Parallel sampling -  Wall time: 3min 41s\n",
    "\n",
    "Serial   - 4 cpu\n",
    "Parallel - 4 cpu + 4 threads per process."
   ]
  },
  {
   "cell_type": "code",
   "execution_count": null,
   "metadata": {},
   "outputs": [],
   "source": []
  }
 ],
 "metadata": {
  "kernelspec": {
   "display_name": "Python 3",
   "language": "python",
   "name": "python3"
  },
  "language_info": {
   "codemirror_mode": {
    "name": "ipython",
    "version": 3
   },
   "file_extension": ".py",
   "mimetype": "text/x-python",
   "name": "python",
   "nbconvert_exporter": "python",
   "pygments_lexer": "ipython3",
   "version": "3.7.0"
  }
 },
 "nbformat": 4,
 "nbformat_minor": 2
}
