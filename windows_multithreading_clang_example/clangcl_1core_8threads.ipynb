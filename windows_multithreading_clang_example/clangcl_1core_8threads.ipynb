{
 "cells": [
  {
   "cell_type": "code",
   "execution_count": 1,
   "metadata": {},
   "outputs": [],
   "source": [
    "import pandas as pd\n",
    "import numpy as np\n",
    "\n",
    "import pystan"
   ]
  },
  {
   "cell_type": "code",
   "execution_count": 2,
   "metadata": {},
   "outputs": [
    {
     "name": "stderr",
     "output_type": "stream",
     "text": [
      "INFO:pystan:COMPILING THE C++ CODE FOR MODEL anon_model_52de5fd549be2afc65cbbab9f8afd5e4 NOW.\n"
     ]
    },
    {
     "name": "stdout",
     "output_type": "stream",
     "text": [
      "Wall time: 48.1 s\n"
     ]
    }
   ],
   "source": [
    "%time stan_model_serial = pystan.StanModel(file=\"./cmdstan_map_rect_tutorial/logistic0.stan\")"
   ]
  },
  {
   "cell_type": "code",
   "execution_count": 3,
   "metadata": {},
   "outputs": [],
   "source": [
    "data = pystan.read_rdump(\"./cmdstan_map_rect_tutorial/redcard_input.R\")"
   ]
  },
  {
   "cell_type": "code",
   "execution_count": 4,
   "metadata": {},
   "outputs": [
    {
     "name": "stdout",
     "output_type": "stream",
     "text": [
      "Wall time: 16min 49s\n"
     ]
    }
   ],
   "source": [
    "%time stan_fit_serial = stan_model_serial.sampling(data=data, n_jobs=1)"
   ]
  },
  {
   "cell_type": "code",
   "execution_count": 5,
   "metadata": {},
   "outputs": [
    {
     "data": {
      "text/plain": [
       "Inference for Stan model: anon_model_52de5fd549be2afc65cbbab9f8afd5e4.\n",
       "4 chains, each with iter=2000; warmup=1000; thin=1; \n",
       "post-warmup draws per chain=1000, total post-warmup draws=4000.\n",
       "\n",
       "          mean se_mean     sd   2.5%    25%    50%    75%  97.5%  n_eff   Rhat\n",
       "beta[1]  -5.53  9.5e-4   0.03   -5.6  -5.55  -5.53  -5.51  -5.46   1350    1.0\n",
       "beta[2]   0.29  2.3e-3   0.08   0.12   0.23   0.29   0.34   0.45   1287    1.0\n",
       "lp__    -1.0e4    0.03   1.03 -1.0e4 -1.0e4 -1.0e4 -1.0e4 -1.0e4   1530    1.0\n",
       "\n",
       "Samples were drawn using NUTS at Fri Sep 21 11:32:26 2018.\n",
       "For each parameter, n_eff is a crude measure of effective sample size,\n",
       "and Rhat is the potential scale reduction factor on split chains (at \n",
       "convergence, Rhat=1)."
      ]
     },
     "execution_count": 5,
     "metadata": {},
     "output_type": "execute_result"
    }
   ],
   "source": [
    "stan_fit_serial"
   ]
  },
  {
   "cell_type": "code",
   "execution_count": 6,
   "metadata": {},
   "outputs": [],
   "source": [
    "import os\n",
    "import sys\n",
    "os.environ['STAN_NUM_THREADS'] = \"8\"\n",
    "extra_compile_args = ['-pthread', '-DSTAN_THREADS']"
   ]
  },
  {
   "cell_type": "code",
   "execution_count": 7,
   "metadata": {},
   "outputs": [
    {
     "name": "stderr",
     "output_type": "stream",
     "text": [
      "INFO:pystan:COMPILING THE C++ CODE FOR MODEL anon_model_6a35db5c059c3652f7cbb37b2a192ed2 NOW.\n"
     ]
    },
    {
     "name": "stdout",
     "output_type": "stream",
     "text": [
      "Wall time: 53.8 s\n"
     ]
    }
   ],
   "source": [
    "%time stan_model_parallel = pystan.StanModel(file=\"./cmdstan_map_rect_tutorial/logistic1.stan\", extra_compile_args=extra_compile_args)"
   ]
  },
  {
   "cell_type": "code",
   "execution_count": 8,
   "metadata": {},
   "outputs": [
    {
     "name": "stdout",
     "output_type": "stream",
     "text": [
      "Wall time: 7min 55s\n"
     ]
    }
   ],
   "source": [
    "%time stan_fit_parallel = stan_model_parallel.sampling(data=data, n_jobs=1)"
   ]
  },
  {
   "cell_type": "code",
   "execution_count": 9,
   "metadata": {},
   "outputs": [
    {
     "data": {
      "text/plain": [
       "Inference for Stan model: anon_model_6a35db5c059c3652f7cbb37b2a192ed2.\n",
       "4 chains, each with iter=2000; warmup=1000; thin=1; \n",
       "post-warmup draws per chain=1000, total post-warmup draws=4000.\n",
       "\n",
       "          mean se_mean     sd   2.5%    25%    50%    75%  97.5%  n_eff   Rhat\n",
       "beta[1]  -5.53  1.0e-3   0.03  -5.59  -5.55  -5.53   -5.5  -5.46   1133    1.0\n",
       "beta[2]   0.28  2.4e-3   0.08   0.12   0.23   0.28   0.34   0.44   1176    1.0\n",
       "lp__     -7863    0.03    1.0  -7866  -7863  -7863  -7862  -7862   1502    1.0\n",
       "\n",
       "Samples were drawn using NUTS at Fri Sep 21 11:41:16 2018.\n",
       "For each parameter, n_eff is a crude measure of effective sample size,\n",
       "and Rhat is the potential scale reduction factor on split chains (at \n",
       "convergence, Rhat=1)."
      ]
     },
     "execution_count": 9,
     "metadata": {},
     "output_type": "execute_result"
    }
   ],
   "source": [
    "stan_fit_parallel"
   ]
  },
  {
   "cell_type": "raw",
   "metadata": {},
   "source": [
    "Serial   sampling -  Wall time: 16min 49s\n",
    "Parallel sampling -  Wall time:  7min 55s\n",
    "\n",
    "Serial   - 1 cpu\n",
    "Parallel - 1 cpu + 8 threads per process."
   ]
  }
 ],
 "metadata": {
  "kernelspec": {
   "display_name": "Python 3",
   "language": "python",
   "name": "python3"
  },
  "language_info": {
   "codemirror_mode": {
    "name": "ipython",
    "version": 3
   },
   "file_extension": ".py",
   "mimetype": "text/x-python",
   "name": "python",
   "nbconvert_exporter": "python",
   "pygments_lexer": "ipython3",
   "version": "3.7.0"
  }
 },
 "nbformat": 4,
 "nbformat_minor": 2
}
