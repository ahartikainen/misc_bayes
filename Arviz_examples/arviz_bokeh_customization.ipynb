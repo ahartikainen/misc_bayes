{
 "cells": [
  {
   "cell_type": "code",
   "execution_count": 1,
   "metadata": {},
   "outputs": [],
   "source": [
    "import arviz as az"
   ]
  },
  {
   "cell_type": "code",
   "execution_count": 2,
   "metadata": {},
   "outputs": [],
   "source": [
    "data = az.load_arviz_data(\"centered_eight\")"
   ]
  },
  {
   "cell_type": "code",
   "execution_count": 3,
   "metadata": {},
   "outputs": [],
   "source": [
    "az.backends.output_file(\"three_column_plot.html\")"
   ]
  },
  {
   "cell_type": "code",
   "execution_count": 4,
   "metadata": {},
   "outputs": [
    {
     "data": {
      "text/plain": [
       "RcParams({'data.http_protocol': 'https',\n",
       "          'data.index_origin': 0,\n",
       "          'data.load': 'lazy',\n",
       "          'plot.backend': 'matplotlib',\n",
       "          'plot.bokeh.bounds_x_range': 'auto',\n",
       "          'plot.bokeh.bounds_y_range': 'auto',\n",
       "          'plot.bokeh.figure.dpi': 60,\n",
       "          'plot.bokeh.figure.height': 500,\n",
       "          'plot.bokeh.figure.width': 500,\n",
       "          'plot.bokeh.layout.order': 'default',\n",
       "          'plot.bokeh.layout.sizing_mode': 'fixed',\n",
       "          'plot.bokeh.layout.toolbar_location': 'above',\n",
       "          'plot.bokeh.marker': 'Cross',\n",
       "          'plot.bokeh.output_backend': 'webgl',\n",
       "          'plot.bokeh.show': True,\n",
       "          'plot.bokeh.tools': 'reset,pan,box_zoom,wheel_zoom,lasso_select,undo,save,hover',\n",
       "          'plot.matplotlib.constrained_layout': True,\n",
       "          'plot.matplotlib.show': False,\n",
       "          'plot.max_subplots': 40,\n",
       "          'plot.point_estimate': 'mean',\n",
       "          'stats.credible_interval': 0.94,\n",
       "          'stats.ic_scale': 'log',\n",
       "          'stats.information_criterion': 'loo'})"
      ]
     },
     "execution_count": 4,
     "metadata": {},
     "output_type": "execute_result"
    }
   ],
   "source": [
    "az.rcParams"
   ]
  },
  {
   "cell_type": "code",
   "execution_count": 5,
   "metadata": {},
   "outputs": [],
   "source": [
    "# {'column', 'square', 'default', 'row', 'square_trimmed'} or regex {'\\\\d*row', '\\\\d*column'}"
   ]
  },
  {
   "cell_type": "code",
   "execution_count": 6,
   "metadata": {},
   "outputs": [],
   "source": [
    "az.rcParams[\"plot.bokeh.layout.order\"] = \"3column\""
   ]
  },
  {
   "cell_type": "code",
   "execution_count": 7,
   "metadata": {},
   "outputs": [],
   "source": [
    "# {'stretch_width', 'scale_width', 'stretch_both', 'stretch_height', 'scale_height', 'fixed', 'scale_both'}"
   ]
  },
  {
   "cell_type": "code",
   "execution_count": 8,
   "metadata": {},
   "outputs": [],
   "source": [
    "az.rcParams[\"plot.bokeh.layout.sizing_mode\"] = \"scale_width\""
   ]
  },
  {
   "cell_type": "code",
   "execution_count": 9,
   "metadata": {},
   "outputs": [],
   "source": [
    "az.rcParams[\"plot.max_subplots\"] = 100"
   ]
  },
  {
   "cell_type": "code",
   "execution_count": 10,
   "metadata": {},
   "outputs": [],
   "source": [
    "az.rcParams[\"plot.backend\"] = \"bokeh\""
   ]
  },
  {
   "cell_type": "code",
   "execution_count": 13,
   "metadata": {},
   "outputs": [],
   "source": [
    "axes = az.plot_pair(data, show=False, divergences=True, backend_kwargs={\"width\" : 300, \"height\" : 300})"
   ]
  },
  {
   "cell_type": "code",
   "execution_count": 14,
   "metadata": {},
   "outputs": [],
   "source": [
    "az.backends.show_layout(axes, show=True)"
   ]
  },
  {
   "cell_type": "code",
   "execution_count": null,
   "metadata": {},
   "outputs": [],
   "source": []
  }
 ],
 "metadata": {
  "kernelspec": {
   "display_name": "Python 3",
   "language": "python",
   "name": "python3"
  },
  "language_info": {
   "codemirror_mode": {
    "name": "ipython",
    "version": 3
   },
   "file_extension": ".py",
   "mimetype": "text/x-python",
   "name": "python",
   "nbconvert_exporter": "python",
   "pygments_lexer": "ipython3",
   "version": "3.7.3"
  }
 },
 "nbformat": 4,
 "nbformat_minor": 4
}
